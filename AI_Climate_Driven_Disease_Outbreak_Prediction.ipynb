{
  "nbformat": 4,
  "nbformat_minor": 0,
  "metadata": {
    "colab": {
      "provenance": []
    },
    "kernelspec": {
      "name": "python3",
      "display_name": "Python 3"
    },
    "language_info": {
      "name": "python"
    }
  },
  "cells": [
    {
      "cell_type": "code",
      "source": [
        "import pandas as pd"
      ],
      "metadata": {
        "id": "fGnQ4ur_FsxM"
      },
      "execution_count": 1,
      "outputs": []
    },
    {
      "cell_type": "code",
      "source": [
        "# Load the merged dataset\n",
        "df = pd.read_csv(\"/content/merged_dataset_cleaned (1).csv\")\n"
      ],
      "metadata": {
        "id": "oebUa5ZOFv9g"
      },
      "execution_count": 2,
      "outputs": []
    },
    {
      "cell_type": "code",
      "source": [
        "print(df.head())"
      ],
      "metadata": {
        "colab": {
          "base_uri": "https://localhost:8080/"
        },
        "id": "LzsZzcSIF2mm",
        "outputId": "3d278959-ec99-4ebe-92fb-2cf3385aa758"
      },
      "execution_count": 3,
      "outputs": [
        {
          "output_type": "stream",
          "name": "stdout",
          "text": [
            "              City  week_of_year       PM2.5        PM10          NO  \\\n",
            "0  bangalore urban             1  222.853623  284.105797   90.302899   \n",
            "1  bangalore urban             2  229.734286  306.507143  102.500000   \n",
            "2  bangalore urban             3  241.440000  273.465714   96.110000   \n",
            "3  bangalore urban             4  254.461429  341.268571   99.784286   \n",
            "4  bangalore urban             5  258.794286  291.031429   93.791429   \n",
            "\n",
            "         NO2         NOx        NH3        CO        SO2  ...  Cases  Deaths  \\\n",
            "0  83.542029  123.923188  27.715942  4.785362  47.698551  ...   19.0     1.0   \n",
            "1  73.890000  127.011429  26.161429  5.410571  50.311429  ...   19.0     1.0   \n",
            "2  81.487143  116.827143  24.050000  5.087286  55.260000  ...   19.0     1.0   \n",
            "3  75.791429  130.185714  22.000000  5.177000  51.284286  ...   19.0     1.0   \n",
            "4  72.878571  125.887143  26.272857  5.393286  53.822857  ...   19.0     1.0   \n",
            "\n",
            "    day  mon    year   Latitude  Longitude     preci  LAI    Temp  \n",
            "0  15.0  6.0  2014.0  12.945142  77.553645  0.306436  8.0  304.45  \n",
            "1  15.0  6.0  2014.0  12.945142  77.553645  0.306436  8.0  304.45  \n",
            "2  15.0  6.0  2014.0  12.945142  77.553645  0.306436  8.0  304.45  \n",
            "3  15.0  6.0  2014.0  12.945142  77.553645  0.306436  8.0  304.45  \n",
            "4  15.0  6.0  2014.0  12.945142  77.553645  0.306436  8.0  304.45  \n",
            "\n",
            "[5 rows x 27 columns]\n"
          ]
        }
      ]
    },
    {
      "cell_type": "code",
      "source": [
        "print(\"Shape:\", df.shape)"
      ],
      "metadata": {
        "colab": {
          "base_uri": "https://localhost:8080/"
        },
        "id": "eyIGlkRMGRo1",
        "outputId": "96673005-355d-4d32-cbd8-d359bf013e57"
      },
      "execution_count": 4,
      "outputs": [
        {
          "output_type": "stream",
          "name": "stdout",
          "text": [
            "Shape: (269, 27)\n"
          ]
        }
      ]
    },
    {
      "cell_type": "code",
      "source": [
        "print(df.info())"
      ],
      "metadata": {
        "colab": {
          "base_uri": "https://localhost:8080/"
        },
        "id": "WFJ7PWJ6GWRa",
        "outputId": "be514ae1-6d9c-4214-ed46-85b13194255c"
      },
      "execution_count": 5,
      "outputs": [
        {
          "output_type": "stream",
          "name": "stdout",
          "text": [
            "<class 'pandas.core.frame.DataFrame'>\n",
            "RangeIndex: 269 entries, 0 to 268\n",
            "Data columns (total 27 columns):\n",
            " #   Column        Non-Null Count  Dtype  \n",
            "---  ------        --------------  -----  \n",
            " 0   City          269 non-null    object \n",
            " 1   week_of_year  269 non-null    int64  \n",
            " 2   PM2.5         269 non-null    float64\n",
            " 3   PM10          269 non-null    float64\n",
            " 4   NO            269 non-null    float64\n",
            " 5   NO2           269 non-null    float64\n",
            " 6   NOx           269 non-null    float64\n",
            " 7   NH3           269 non-null    float64\n",
            " 8   CO            269 non-null    float64\n",
            " 9   SO2           269 non-null    float64\n",
            " 10  O3            269 non-null    float64\n",
            " 11  Benzene       269 non-null    float64\n",
            " 12  Toluene       269 non-null    float64\n",
            " 13  Xylene        269 non-null    float64\n",
            " 14  AQI           269 non-null    float64\n",
            " 15  state_ut      269 non-null    object \n",
            " 16  Disease       269 non-null    object \n",
            " 17  Cases         269 non-null    float64\n",
            " 18  Deaths        269 non-null    float64\n",
            " 19  day           269 non-null    float64\n",
            " 20  mon           269 non-null    float64\n",
            " 21  year          269 non-null    float64\n",
            " 22  Latitude      269 non-null    float64\n",
            " 23  Longitude     269 non-null    float64\n",
            " 24  preci         269 non-null    float64\n",
            " 25  LAI           269 non-null    float64\n",
            " 26  Temp          269 non-null    float64\n",
            "dtypes: float64(23), int64(1), object(3)\n",
            "memory usage: 56.9+ KB\n",
            "None\n"
          ]
        }
      ]
    },
    {
      "cell_type": "code",
      "source": [
        "print(df.describe())"
      ],
      "metadata": {
        "colab": {
          "base_uri": "https://localhost:8080/"
        },
        "id": "YQKvm5N6GY9B",
        "outputId": "f4a82d83-8510-4b60-d2c5-2c7bf8eec0e6"
      },
      "execution_count": 6,
      "outputs": [
        {
          "output_type": "stream",
          "name": "stdout",
          "text": [
            "       week_of_year       PM2.5        PM10          NO         NO2  \\\n",
            "count    269.000000  269.000000  269.000000  269.000000  269.000000   \n",
            "mean      27.044610  250.486615  299.601398  100.371878   75.311239   \n",
            "std       15.295042   18.565411   21.349813    7.398747    5.714546   \n",
            "min        1.000000  201.350000  216.950000   81.545714   55.078571   \n",
            "25%       14.000000  237.948571  287.178571   95.255714   71.707143   \n",
            "50%       27.000000  251.011429  299.172857  101.267143   75.150000   \n",
            "75%       40.000000  263.258571  313.392857  105.572857   79.514286   \n",
            "max       53.000000  313.140000  369.464286  120.417143   89.232857   \n",
            "\n",
            "              NOx         NH3          CO         SO2          O3  ...  \\\n",
            "count  269.000000  269.000000  269.000000  269.000000  269.000000  ...   \n",
            "mean   126.088690   25.048778    5.008224   49.895214  100.412330  ...   \n",
            "std      8.097484    1.875042    0.359426    3.370420    6.859897  ...   \n",
            "min    107.545714   17.585714    4.098143   41.472857   84.605714  ...   \n",
            "25%    119.558571   23.725714    4.788286   47.521429   95.630000  ...   \n",
            "50%    126.967143   25.097143    4.988286   49.724286  100.257143  ...   \n",
            "75%    131.572857   26.242857    5.242571   52.304286  104.671429  ...   \n",
            "max    152.447143   30.917143    6.541286   60.235714  120.135714  ...   \n",
            "\n",
            "            Cases      Deaths         day         mon         year  \\\n",
            "count  269.000000  269.000000  269.000000  269.000000   269.000000   \n",
            "mean    19.613383    0.977695   15.026022    6.059480  2014.007435   \n",
            "std      5.700809    0.171322    1.875627    0.637885     0.539434   \n",
            "min      4.000000    0.000000    2.000000    3.000000  2011.000000   \n",
            "25%     19.000000    1.000000   15.000000    6.000000  2014.000000   \n",
            "50%     19.000000    1.000000   15.000000    6.000000  2014.000000   \n",
            "75%     19.000000    1.000000   15.000000    6.000000  2014.000000   \n",
            "max     78.000000    2.000000   28.000000   12.000000  2019.000000   \n",
            "\n",
            "         Latitude   Longitude       preci         LAI        Temp  \n",
            "count  269.000000  269.000000  269.000000  269.000000  269.000000  \n",
            "mean    12.980910   77.593797    0.307412    7.995427  304.424304  \n",
            "std      0.586633    0.658539    0.066610    0.690721    0.615343  \n",
            "min     12.945142   77.553645    0.000145    2.000000  300.405000  \n",
            "25%     12.945142   77.553645    0.306436    8.000000  304.450000  \n",
            "50%     12.945142   77.553645    0.306436    8.000000  304.450000  \n",
            "75%     12.945142   77.553645    0.306436    8.000000  304.450000  \n",
            "max     22.566645   88.354485    0.821550   13.474576  309.500000  \n",
            "\n",
            "[8 rows x 24 columns]\n"
          ]
        }
      ]
    },
    {
      "cell_type": "code",
      "source": [
        "# Check missing values\n",
        "print(df.isnull().sum())"
      ],
      "metadata": {
        "colab": {
          "base_uri": "https://localhost:8080/"
        },
        "id": "rr1EPjoTGcm4",
        "outputId": "1b2bd1ef-f950-4330-8c7c-19025d4f6184"
      },
      "execution_count": 9,
      "outputs": [
        {
          "output_type": "stream",
          "name": "stdout",
          "text": [
            "City            0\n",
            "week_of_year    0\n",
            "PM2.5           0\n",
            "PM10            0\n",
            "NO              0\n",
            "NO2             0\n",
            "NOx             0\n",
            "NH3             0\n",
            "CO              0\n",
            "SO2             0\n",
            "O3              0\n",
            "Benzene         0\n",
            "Toluene         0\n",
            "Xylene          0\n",
            "AQI             0\n",
            "state_ut        0\n",
            "Disease         0\n",
            "Cases           0\n",
            "Deaths          0\n",
            "day             0\n",
            "mon             0\n",
            "year            0\n",
            "Latitude        0\n",
            "Longitude       0\n",
            "preci           0\n",
            "LAI             0\n",
            "Temp            0\n",
            "dtype: int64\n"
          ]
        }
      ]
    },
    {
      "cell_type": "code",
      "source": [],
      "metadata": {
        "id": "6VLVCK69HBNN"
      },
      "execution_count": null,
      "outputs": []
    }
  ]
}